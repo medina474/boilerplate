{
    "cells": [
        {
            "attachments": {},
            "cell_type": "markdown",
            "metadata": {
                "azdata_cell_guid": "0a37591b-6a71-4394-959f-367150d7d81d"
            },
            "source": [
                "Sélection de toutes les colonnes (\\*) et de toutes les lignes de la table employes"
            ]
        },
        {
            "cell_type": "code",
            "execution_count": 2,
            "metadata": {
                "azdata_cell_guid": "b120d920-2532-43a0-8f6f-2bfc0b36b27d",
                "language": "sql",
                "tags": [
                    "hide_input"
                ],
                "vscode": {
                    "languageId": "sql"
                }
            },
            "outputs": [
                {
                    "data": {
                        "text/html": [
                            "(14 row(s) affected)"
                        ]
                    },
                    "metadata": {},
                    "output_type": "display_data"
                },
                {
                    "data": {
                        "text/html": [
                            "Total execution time: 00:00:00.014"
                        ]
                    },
                    "metadata": {},
                    "output_type": "display_data"
                },
                {
                    "data": {
                        "application/vnd.dataresource+json": {
                            "data": [
                                {
                                    "nom": "Smith",
                                    "poste": "secretaire",
                                    "salaire": "800"
                                },
                                {
                                    "nom": "Alen",
                                    "poste": "vendeur",
                                    "salaire": "1600"
                                },
                                {
                                    "nom": "Ward",
                                    "poste": "vendeur",
                                    "salaire": "1250"
                                },
                                {
                                    "nom": "Jones",
                                    "poste": "chef service",
                                    "salaire": "2975"
                                },
                                {
                                    "nom": "Martin",
                                    "poste": "vendeur",
                                    "salaire": "1250"
                                },
                                {
                                    "nom": "Blake",
                                    "poste": "chef service",
                                    "salaire": "2850"
                                },
                                {
                                    "nom": "Clark",
                                    "poste": "chef service",
                                    "salaire": "2450"
                                },
                                {
                                    "nom": "Scott",
                                    "poste": "analyste",
                                    "salaire": "3000"
                                },
                                {
                                    "nom": "King",
                                    "poste": "president",
                                    "salaire": "5000"
                                },
                                {
                                    "nom": "Turner",
                                    "poste": "vendeur",
                                    "salaire": "1500"
                                },
                                {
                                    "nom": "Adams",
                                    "poste": "secretaire",
                                    "salaire": "1100"
                                },
                                {
                                    "nom": "James",
                                    "poste": "secretaire",
                                    "salaire": "950"
                                },
                                {
                                    "nom": "Ford",
                                    "poste": "analyste",
                                    "salaire": "3000"
                                },
                                {
                                    "nom": "Miller",
                                    "poste": "secretaire",
                                    "salaire": "1300"
                                }
                            ],
                            "schema": {
                                "fields": [
                                    {
                                        "name": "nom"
                                    },
                                    {
                                        "name": "poste"
                                    },
                                    {
                                        "name": "salaire"
                                    }
                                ]
                            }
                        },
                        "text/html": [
                            "<table><tr><th>nom</th><th>poste</th><th>salaire</th></tr><tr><td>Smith</td><td>secretaire</td><td>800</td></tr><tr><td>Alen</td><td>vendeur</td><td>1600</td></tr><tr><td>Ward</td><td>vendeur</td><td>1250</td></tr><tr><td>Jones</td><td>chef service</td><td>2975</td></tr><tr><td>Martin</td><td>vendeur</td><td>1250</td></tr><tr><td>Blake</td><td>chef service</td><td>2850</td></tr><tr><td>Clark</td><td>chef service</td><td>2450</td></tr><tr><td>Scott</td><td>analyste</td><td>3000</td></tr><tr><td>King</td><td>president</td><td>5000</td></tr><tr><td>Turner</td><td>vendeur</td><td>1500</td></tr><tr><td>Adams</td><td>secretaire</td><td>1100</td></tr><tr><td>James</td><td>secretaire</td><td>950</td></tr><tr><td>Ford</td><td>analyste</td><td>3000</td></tr><tr><td>Miller</td><td>secretaire</td><td>1300</td></tr></table>"
                        ]
                    },
                    "execution_count": 2,
                    "metadata": {},
                    "output_type": "execute_result"
                }
            ],
            "source": [
                "select * from employes"
            ]
        },
        {
            "attachments": {},
            "cell_type": "markdown",
            "metadata": {
                "azdata_cell_guid": "80d63c3a-00fe-433d-833d-4a89b0edb765"
            },
            "source": [
                "Sélection des postes, noms et salaires des employés"
            ]
        },
        {
            "cell_type": "code",
            "execution_count": 1,
            "metadata": {
                "azdata_cell_guid": "b7fec9ad-9e60-4db7-b170-5bfcc46723c1",
                "language": "sql",
                "vscode": {
                    "languageId": "sql"
                }
            },
            "outputs": [
                {
                    "ename": "SyntaxError",
                    "evalue": "invalid syntax (2970510683.py, line 1)",
                    "output_type": "error",
                    "traceback": [
                        "\u001b[1;36m  Cell \u001b[1;32mIn[1], line 1\u001b[1;36m\u001b[0m\n\u001b[1;33m    select poste, nom, salaire from employes\u001b[0m\n\u001b[1;37m           ^\u001b[0m\n\u001b[1;31mSyntaxError\u001b[0m\u001b[1;31m:\u001b[0m invalid syntax\n"
                    ]
                }
            ],
            "source": [
                "select poste, nom, salaire from employes"
            ]
        },
        {
            "attachments": {},
            "cell_type": "markdown",
            "metadata": {
                "azdata_cell_guid": "3bd4fdb6-e859-40ca-8f0f-153439d43d3e"
            },
            "source": [
                "L'opérateur **between** permet de récupérer des informations à partir des valeurs sélectionnés dans un intervalle bornes incluses. Sélection des « nom et salaire » des employés pour lesquels le salaire est compris entre 1200 et 1400 €.\n",
                "\n",
                "L'opérateur BETWEEN est équivalent à l'utilisation d'opérateurs arithmétiques."
            ]
        },
        {
            "cell_type": "code",
            "execution_count": 1,
            "metadata": {
                "azdata_cell_guid": "94f5a39e-7a55-499f-81c9-b82225392eea",
                "language": "sql",
                "vscode": {
                    "languageId": "sql"
                }
            },
            "outputs": [
                {
                    "data": {
                        "text/html": [
                            "(3 row(s) affected)"
                        ]
                    },
                    "metadata": {},
                    "output_type": "display_data"
                },
                {
                    "data": {
                        "text/html": [
                            "Total execution time: 00:00:00.006"
                        ]
                    },
                    "metadata": {},
                    "output_type": "display_data"
                },
                {
                    "data": {
                        "application/vnd.dataresource+json": {
                            "data": [
                                {
                                    "nom": "Ward",
                                    "salaire": "1250"
                                },
                                {
                                    "nom": "Martin",
                                    "salaire": "1250"
                                },
                                {
                                    "nom": "Miller",
                                    "salaire": "1300"
                                }
                            ],
                            "schema": {
                                "fields": [
                                    {
                                        "name": "nom"
                                    },
                                    {
                                        "name": "salaire"
                                    }
                                ]
                            }
                        },
                        "text/html": [
                            "<table>\n",
                            "<tr><th>nom</th><th>salaire</th></tr>\n",
                            "<tr><td>Ward</td><td>1250</td></tr>\n",
                            "<tr><td>Martin</td><td>1250</td></tr>\n",
                            "<tr><td>Miller</td><td>1300</td></tr>\n",
                            "</table>"
                        ]
                    },
                    "execution_count": 1,
                    "metadata": {},
                    "output_type": "execute_result"
                }
            ],
            "source": [
                "select nom, salaire from employes WHERE salaire between 1200 and 1400"
            ]
        }
    ],
    "metadata": {
        "kernelspec": {
            "display_name": "base",
            "language": "python",
            "name": "python3"
        },
        "language_info": {
            "codemirror_mode": {
                "name": "ipython",
                "version": 3
            },
            "file_extension": ".py",
            "mimetype": "text/x-python",
            "name": "python",
            "nbconvert_exporter": "python",
            "pygments_lexer": "ipython3",
            "version": "3.11.5"
        }
    },
    "nbformat": 4,
    "nbformat_minor": 2
}
